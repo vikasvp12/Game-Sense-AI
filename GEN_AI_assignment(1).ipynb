{
  "cells": [
    {
      "cell_type": "markdown",
      "metadata": {
        "id": "view-in-github",
        "colab_type": "text"
      },
      "source": [
        "<a href=\"https://colab.research.google.com/github/vikasvp12/gen-ai-assignment-1/blob/main/GEN_AI_assignment(1).ipynb\" target=\"_parent\"><img src=\"https://colab.research.google.com/assets/colab-badge.svg\" alt=\"Open In Colab\"/></a>"
      ]
    },
    {
      "cell_type": "code",
      "source": [
        "!pip install transformers torch --quiet\n",
        "\n",
        "import torch\n",
        "from transformers import AutoTokenizer, AutoModelForSequenceClassification\n",
        "\n",
        "texts = [\n",
        "    \"Rush them now! Attack quickly before they heal!\",\n",
        "    \"Hold your position and wait for my signal. Fall back if needed.\",\n",
        "    \"Cover me, I'm reloading! Need a medkit fast!\",\n",
        "    \"I'll carry this match solo, watch my gameplay.\",\n",
        "    \"Let's push together as a team!\",\n",
        "    \"Stay low and move carefully, watch out for snipers.\",\n",
        "    \"I dominate with my aggressive playstyle!\",\n",
        "    \"We can win this round easy if we coordinate!\"\n",
        "]\n",
        "\n",
        "labels = [0, 1, 2, 3, 0, 1, 0, 2]\n",
        "\n",
        "label_names = {\n",
        "    0: \"AGGRO CATALYST - Rush Strategy\",\n",
        "    1: \"TACTICAL ARCHITECT - Strategic Mind\",\n",
        "    2: \"SYNERGY CORE - Team Player\",\n",
        "    3: \"APEX SOLO - Solo Carry\"\n",
        "}\n",
        "\n",
        "model_name = \"distilbert-base-uncased\"\n",
        "tokenizer = AutoTokenizer.from_pretrained(model_name)\n",
        "model = AutoModelForSequenceClassification.from_pretrained(model_name, num_labels=4)\n",
        "\n",
        "print(\"✅ Model loaded\\n\" + \"=\"*60 + \"\\n🎮 GAMESENSE AI - PERSONALITY ANALYSIS\\n\")\n",
        "\n",
        "test_texts = [\n",
        "    \"Cover me, I'm reloading! Need a medkit fast!\",\n",
        "    \"Rush them now, don't give them time to heal!\",\n",
        "    \"Hold your position and wait for my signal.\",\n",
        "    \"I carried the match with my strategy!\",\n",
        "    \"Enemy spotted on the left flank, push together!\",\n",
        "    \"I prefer solo missions and individual play.\"\n",
        "]\n",
        "\n",
        "for test_text in test_texts:\n",
        "    inputs = tokenizer(test_text, return_tensors=\"pt\", truncation=True, padding=True)\n",
        "    with torch.no_grad():\n",
        "        outputs = model(**inputs)\n",
        "    predicted_id = torch.argmax(outputs.logits).item()\n",
        "    confidence = torch.softmax(outputs.logits, dim=1).max().item() * 100\n",
        "    print(f\"Input: {test_text}\\n🎯 {label_names[predicted_id]}\\n📊 Confidence: {confidence:.1f}%\\n\" + \"-\"*60)\n",
        "\n",
        "print(\"\\n✅ Analysis Complete!\\n\" + \"=\"*60)\n",
        "print(\"🎮 INTERACTIVE MODE\")\n",
        "print(\"=\"*60 + \"\\nType your gaming style (or 'exit' to quit):\\n\")\n",
        "\n",
        "def analyze(user_input):\n",
        "    inputs = tokenizer(user_input, return_tensors=\"pt\", truncation=True, padding=True)\n",
        "    with torch.no_grad():\n",
        "        outputs = model(**inputs)\n",
        "    predicted_id = torch.argmax(outputs.logits).item()\n",
        "    confidence = torch.softmax(outputs.logits, dim=1).max().item() * 100\n",
        "    print(f\"\\n{'='*60}\\nInput: {user_input}\\n🎯 {label_names[predicted_id]}\\n📊 Confidence: {confidence:.1f}%\\n{'='*60}\\n\")\n",
        "\n",
        "while True:\n",
        "    try:\n",
        "        user_input = input(\"Your gaming style: \").strip()\n",
        "        if user_input.lower() == 'exit':\n",
        "            print(\"\\n👋 Thanks for using GameSense AI!\")\n",
        "            break\n",
        "        if user_input:\n",
        "            analyze(user_input)\n",
        "        else:\n",
        "            print(\"⚠️ Please enter some text\")\n",
        "    except:\n",
        "        print(\"\\n👋 Thanks for using GameSense AI!\")\n",
        "        break"
      ],
      "metadata": {
        "colab": {
          "base_uri": "https://localhost:8080/"
        },
        "id": "wdtvVno_VWDW",
        "outputId": "cff395db-0fe4-4f36-fffc-3f3d6d7ce257"
      },
      "execution_count": null,
      "outputs": [
        {
          "output_type": "stream",
          "name": "stderr",
          "text": [
            "Some weights of DistilBertForSequenceClassification were not initialized from the model checkpoint at distilbert-base-uncased and are newly initialized: ['classifier.bias', 'classifier.weight', 'pre_classifier.bias', 'pre_classifier.weight']\n",
            "You should probably TRAIN this model on a down-stream task to be able to use it for predictions and inference.\n"
          ]
        },
        {
          "output_type": "stream",
          "name": "stdout",
          "text": [
            "✅ Model loaded\n",
            "============================================================\n",
            "🎮 GAMESENSE AI - PERSONALITY ANALYSIS\n",
            "\n",
            "Input: Cover me, I'm reloading! Need a medkit fast!\n",
            "🎯 AGGRO CATALYST - Rush Strategy\n",
            "📊 Confidence: 26.4%\n",
            "------------------------------------------------------------\n",
            "Input: Rush them now, don't give them time to heal!\n",
            "🎯 AGGRO CATALYST - Rush Strategy\n",
            "📊 Confidence: 25.9%\n",
            "------------------------------------------------------------\n",
            "Input: Hold your position and wait for my signal.\n",
            "🎯 TACTICAL ARCHITECT - Strategic Mind\n",
            "📊 Confidence: 26.0%\n",
            "------------------------------------------------------------\n",
            "Input: I carried the match with my strategy!\n",
            "🎯 TACTICAL ARCHITECT - Strategic Mind\n",
            "📊 Confidence: 26.0%\n",
            "------------------------------------------------------------\n",
            "Input: Enemy spotted on the left flank, push together!\n",
            "🎯 AGGRO CATALYST - Rush Strategy\n",
            "📊 Confidence: 27.0%\n",
            "------------------------------------------------------------\n",
            "Input: I prefer solo missions and individual play.\n",
            "🎯 TACTICAL ARCHITECT - Strategic Mind\n",
            "📊 Confidence: 25.6%\n",
            "------------------------------------------------------------\n",
            "\n",
            "✅ Analysis Complete!\n",
            "============================================================\n",
            "🎮 INTERACTIVE MODE\n",
            "============================================================\n",
            "Type your gaming style (or 'exit' to quit):\n",
            "\n",
            "Your gaming style: cover up me\n",
            "\n",
            "============================================================\n",
            "Input: cover up me\n",
            "🎯 TACTICAL ARCHITECT - Strategic Mind\n",
            "📊 Confidence: 26.0%\n",
            "============================================================\n",
            "\n"
          ]
        }
      ]
    }
  ],
  "metadata": {
    "colab": {
      "provenance": [],
      "gpuType": "T4",
      "include_colab_link": true
    },
    "kernelspec": {
      "display_name": "Python 3",
      "name": "python3"
    },
    "accelerator": "GPU"
  },
  "nbformat": 4,
  "nbformat_minor": 0
}